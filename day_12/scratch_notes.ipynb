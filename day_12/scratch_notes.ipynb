{
 "cells": [
  {
   "cell_type": "code",
   "execution_count": 9,
   "id": "37ebecc8",
   "metadata": {},
   "outputs": [],
   "source": [
    "test_string = \"0,10\"\n",
    "convert_string_to_tuple = tuple(test_string.split(\",\"))"
   ]
  },
  {
   "cell_type": "code",
   "execution_count": 10,
   "id": "61317b13",
   "metadata": {},
   "outputs": [
    {
     "name": "stdout",
     "output_type": "stream",
     "text": [
      "('0', '1')\n"
     ]
    }
   ],
   "source": [
    "print(convert_string_to_tuple)"
   ]
  },
  {
   "cell_type": "code",
   "execution_count": null,
   "id": "661614e9",
   "metadata": {},
   "outputs": [],
   "source": []
  }
 ],
 "metadata": {
  "kernelspec": {
   "display_name": "Python 3 (ipykernel)",
   "language": "python",
   "name": "python3"
  },
  "language_info": {
   "codemirror_mode": {
    "name": "ipython",
    "version": 3
   },
   "file_extension": ".py",
   "mimetype": "text/x-python",
   "name": "python",
   "nbconvert_exporter": "python",
   "pygments_lexer": "ipython3",
   "version": "3.10.2"
  }
 },
 "nbformat": 4,
 "nbformat_minor": 5
}
